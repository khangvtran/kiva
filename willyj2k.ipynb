{
 "cells": [
  {
   "cell_type": "code",
   "execution_count": 3,
   "metadata": {},
   "outputs": [],
   "source": [
    "import numpy as np\n",
    "import pandas as pd"
   ]
  },
  {
   "cell_type": "code",
   "execution_count": 4,
   "metadata": {},
   "outputs": [],
   "source": [
    "df_loans = pd.read_csv(\"data/kiva_loans.csv\")\n",
    "df_regions = pd.read_csv(\"data/kiva_mpi_region_locations.csv\")\n",
    "df_themes = pd.read_csv(\"data/loan_theme_ids.csv\")\n",
    "df_themes_r = pd.read_csv(\"data/loan_themes_by_region.csv\")"
   ]
  },
  {
   "cell_type": "code",
   "execution_count": 17,
   "metadata": {},
   "outputs": [
    {
     "name": "stdout",
     "output_type": "stream",
     "text": [
      "df_loans\n"
     ]
    },
    {
     "data": {
      "text/plain": [
       "array(['id', 'funded_amount', 'loan_amount', 'activity', 'sector', 'use',\n",
       "       'country_code', 'country', 'region', 'currency', 'partner_id',\n",
       "       'posted_time', 'disbursed_time', 'funded_time', 'term_in_months',\n",
       "       'lender_count', 'tags', 'borrower_genders', 'repayment_interval',\n",
       "       'date'], dtype=object)"
      ]
     },
     "metadata": {},
     "output_type": "display_data"
    },
    {
     "name": "stdout",
     "output_type": "stream",
     "text": [
      "\n",
      "\n",
      "df_regions\n"
     ]
    },
    {
     "data": {
      "text/plain": [
       "array(['LocationName', 'ISO', 'country', 'region', 'world_region', 'MPI',\n",
       "       'geo', 'lat', 'lon'], dtype=object)"
      ]
     },
     "metadata": {},
     "output_type": "display_data"
    },
    {
     "name": "stdout",
     "output_type": "stream",
     "text": [
      "\n",
      "\n",
      "df_themes\n"
     ]
    },
    {
     "data": {
      "text/plain": [
       "array(['id', 'Loan Theme ID', 'Loan Theme Type', 'Partner ID'],\n",
       "      dtype=object)"
      ]
     },
     "metadata": {},
     "output_type": "display_data"
    },
    {
     "name": "stdout",
     "output_type": "stream",
     "text": [
      "\n",
      "\n",
      "df_themes_r\n"
     ]
    },
    {
     "data": {
      "text/plain": [
       "array(['Partner ID', 'Field Partner Name', 'sector', 'Loan Theme ID',\n",
       "       'Loan Theme Type', 'country', 'forkiva', 'region', 'geocode_old',\n",
       "       'ISO', 'number', 'amount', 'LocationName', 'geocode', 'names',\n",
       "       'geo', 'lat', 'lon', 'mpi_region', 'mpi_geo', 'rural_pct'],\n",
       "      dtype=object)"
      ]
     },
     "metadata": {},
     "output_type": "display_data"
    }
   ],
   "source": [
    "print(\"df_loans\")\n",
    "display(df_loans.columns.values)\n",
    "\n",
    "print(\"\\n\\ndf_regions\")\n",
    "display(df_regions.columns.values)\n",
    "\n",
    "print(\"\\n\\ndf_themes\")\n",
    "display(df_themes.columns.values)\n",
    "\n",
    "print(\"\\n\\ndf_themes_r\")\n",
    "display(df_themes_r.columns.values)"
   ]
  },
  {
   "cell_type": "markdown",
   "metadata": {},
   "source": [
    "## Ideas\n",
    "\n",
    "* We could use Series.str.contains to predict something based on the tag included with the loan\n",
    "\n",
    "* Predicting loan amount / funding percentage based on activity or sector ('area of greatest need?')\n",
    "\n",
    "* Predicting funded time - posted time (equiv. to time-to-fund) based on words found in 'use' (bag-of-words, PCA on the words contained in 'use'?)\n",
    "\n",
    "* Predicting loan amount based on words found in 'use' (compare decision trees, other things)"
   ]
  },
  {
   "cell_type": "code",
   "execution_count": null,
   "metadata": {},
   "outputs": [],
   "source": []
  }
 ],
 "metadata": {
  "kernelspec": {
   "display_name": "Python 3",
   "language": "python",
   "name": "python3"
  },
  "language_info": {
   "codemirror_mode": {
    "name": "ipython",
    "version": 3
   },
   "file_extension": ".py",
   "mimetype": "text/x-python",
   "name": "python",
   "nbconvert_exporter": "python",
   "pygments_lexer": "ipython3",
   "version": "3.7.3"
  }
 },
 "nbformat": 4,
 "nbformat_minor": 2
}
